{
 "cells": [
  {
   "cell_type": "code",
   "execution_count": 40,
   "metadata": {},
   "outputs": [],
   "source": [
    "import nltk\n",
    "from nltk.corpus import stopwords \n",
    "import string\n",
    "from nltk import word_tokenize"
   ]
  },
  {
   "cell_type": "code",
   "execution_count": 41,
   "metadata": {},
   "outputs": [
    {
     "name": "stdout",
     "output_type": "stream",
     "text": [
      "Enter file name:../source-corpus/clean-data/short-story-pg/short-story-pg.txt\n"
     ]
    }
   ],
   "source": [
    "file_name = input('Enter file name:')"
   ]
  },
  {
   "cell_type": "code",
   "execution_count": 42,
   "metadata": {},
   "outputs": [],
   "source": [
    "f = open(file_name,\"r\")\n",
    "lines = f.readlines()\n",
    "f.close()"
   ]
  },
  {
   "cell_type": "code",
   "execution_count": 43,
   "metadata": {},
   "outputs": [],
   "source": [
    "sentences_cleaned = []\n",
    "for i in range(len(lines)):\n",
    "    lines[i]=lines[i].lstrip() #Removes left spaces\n",
    "    if(lines[i]!=\"\"):\n",
    "        if(lines[i][0].isdigit() or lines[i][:-1].endswith(\".\")): #If first character is digit\n",
    "            #Leave number with dot and take rest of the sentence\n",
    "            result = ''.join([k for k in lines[i] if not k.isdigit() and k!=\".\"])\n",
    "            if(len(result.split())>1):\n",
    "                sentences_cleaned.extend([result.lstrip()])"
   ]
  },
  {
   "cell_type": "code",
   "execution_count": 44,
   "metadata": {},
   "outputs": [],
   "source": [
    "index = file_name.rfind('/')\n",
    "file_updated = \"../pre-cleaned/clean-source/\" + file_name[index:-4] + \"-clean.txt\"\n",
    "f = open(file_updated,\"w\")\n",
    "f.close()"
   ]
  },
  {
   "cell_type": "code",
   "execution_count": 45,
   "metadata": {},
   "outputs": [],
   "source": [
    "for element in sentences_cleaned:\n",
    "    if(len(element.split())>1):\n",
    "        with open(file_updated, 'a') as f:\n",
    "            f.write(element)\n",
    "        f.close()"
   ]
  },
  {
   "cell_type": "code",
   "execution_count": null,
   "metadata": {},
   "outputs": [],
   "source": []
  },
  {
   "cell_type": "code",
   "execution_count": null,
   "metadata": {},
   "outputs": [],
   "source": []
  },
  {
   "cell_type": "code",
   "execution_count": 5,
   "metadata": {},
   "outputs": [],
   "source": [
    "stop = stopwords.words('english') + list(string.punctuation) + list(\"’\")+list(\"“\")+list(\">\") + list(\"`\")"
   ]
  },
  {
   "cell_type": "code",
   "execution_count": 7,
   "metadata": {},
   "outputs": [],
   "source": [
    "def send_tokens(line):\n",
    "    tokens = word_tokenize(line)\n",
    "    return tokens"
   ]
  },
  {
   "cell_type": "code",
   "execution_count": 8,
   "metadata": {},
   "outputs": [],
   "source": [
    "from nltk.stem.wordnet import WordNetLemmatizer\n",
    "\n",
    "def lemmatization(line):\n",
    "    lemmatizer = WordNetLemmatizer()\n",
    "    lemmatized_word_list = []\n",
    "    tokens = send_tokens(line)\n",
    "    lemmatized_word_list = [lemmatizer.lemmatize(w) for w in tokens]        \n",
    "    return lemmatized_word_list"
   ]
  },
  {
   "cell_type": "code",
   "execution_count": 9,
   "metadata": {},
   "outputs": [],
   "source": [
    "for i in range(len(sentences_cleaned)):\n",
    "    sentence = \"\"\n",
    "    if(sentences_cleaned[i]!=\"\"):\n",
    "        for j in word_tokenize(sentences_cleaned[i].lower()):\n",
    "            if j not in stop:\n",
    "                if(j!=\"--\"):\n",
    "                    sentence = sentence + j + \" \"\n",
    "        for element in lemmatization(sentence):\n",
    "            with open(file_updated, 'a') as f:\n",
    "                f.write(element + \" \")\n",
    "            f.close()\n",
    "        with open(file_updated, 'a') as f:\n",
    "            f.write(\"\\n\")\n",
    "        f.close()"
   ]
  },
  {
   "cell_type": "code",
   "execution_count": null,
   "metadata": {},
   "outputs": [],
   "source": []
  }
 ],
 "metadata": {
  "kernelspec": {
   "display_name": "Python [conda env:anaconda3]",
   "language": "python",
   "name": "conda-env-anaconda3-py"
  },
  "language_info": {
   "codemirror_mode": {
    "name": "ipython",
    "version": 3
   },
   "file_extension": ".py",
   "mimetype": "text/x-python",
   "name": "python",
   "nbconvert_exporter": "python",
   "pygments_lexer": "ipython3",
   "version": "3.6.5"
  }
 },
 "nbformat": 4,
 "nbformat_minor": 2
}
