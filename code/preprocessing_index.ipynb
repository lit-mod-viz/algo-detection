{
 "cells": [
  {
   "cell_type": "code",
   "execution_count": 22,
   "metadata": {},
   "outputs": [],
   "source": [
    "f = open(\"plot-genie-index-ocr.txt\",\"r\")\n",
    "g = open(\"adventure-pg.txt\",\"r\")"
   ]
  },
  {
   "cell_type": "code",
   "execution_count": 23,
   "metadata": {},
   "outputs": [],
   "source": [
    "lines = f.readlines()\n",
    "f.close()\n",
    "f = open(\"plot-genie-index-ocr-copy.txt\",\"w\")\n",
    "f.close()"
   ]
  },
  {
   "cell_type": "code",
   "execution_count": 20,
   "metadata": {},
   "outputs": [],
   "source": [
    "lines = g.readlines()\n",
    "g.close()\n",
    "g = open(\"adventure-pg-copy.txt\",\"w\")\n",
    "g.close()"
   ]
  },
  {
   "cell_type": "code",
   "execution_count": 26,
   "metadata": {},
   "outputs": [],
   "source": [
    "for i in range(len(lines)):\n",
    "    lines[i]=lines[i].lstrip() #Removes left spaces\n",
    "    if(lines[i]!=\"\"):\n",
    "        if(lines[i][0].isdigit() or lines[i][:-1].endswith(\".\")): #If first character is digit\n",
    "            result = ''.join([k for k in lines[i] if not k.isdigit() and k!=\".\"])  #Leave number with dot and take rest of the sentence\n",
    "            with open('plot-genie-index-ocr-copy.txt', 'a') as f: #Change the name of the file you want to store in\n",
    "                f.write(result.lstrip() + \"\\n\")\n",
    "            f.close()"
   ]
  },
  {
   "cell_type": "code",
   "execution_count": 48,
   "metadata": {},
   "outputs": [
    {
     "data": {
      "text/plain": [
       "'At the Zoo\\n'"
      ]
     },
     "execution_count": 48,
     "metadata": {},
     "output_type": "execute_result"
    }
   ],
   "source": [
    "lines[7][3:]"
   ]
  },
  {
   "cell_type": "code",
   "execution_count": 87,
   "metadata": {},
   "outputs": [],
   "source": [
    "f = open(\"plot-genie-index-ocr-copy.txt\",\"r\")\n",
    "g = open(\"adventure-pg-copy.txt\",\"r\")"
   ]
  },
  {
   "cell_type": "code",
   "execution_count": 50,
   "metadata": {},
   "outputs": [],
   "source": [
    "lines = f.readlines()"
   ]
  },
  {
   "cell_type": "code",
   "execution_count": 88,
   "metadata": {},
   "outputs": [],
   "source": [
    "lines = g.readlines()"
   ]
  },
  {
   "cell_type": "code",
   "execution_count": 89,
   "metadata": {},
   "outputs": [],
   "source": [
    "import nltk\n",
    "from nltk.corpus import stopwords \n",
    "import string\n",
    "from nltk import word_tokenize"
   ]
  },
  {
   "cell_type": "code",
   "execution_count": 90,
   "metadata": {},
   "outputs": [],
   "source": [
    "stop = stopwords.words('english') + list(string.punctuation) + list(\"’\")+list(\"“\")+list(\">\")"
   ]
  },
  {
   "cell_type": "code",
   "execution_count": null,
   "metadata": {},
   "outputs": [],
   "source": [
    "f = open(\"plot-genie-index-clean.txt\",\"w\")\n",
    "f.close()"
   ]
  },
  {
   "cell_type": "code",
   "execution_count": 91,
   "metadata": {},
   "outputs": [],
   "source": [
    "f = open(\"adventure-pg-clean.txt\",\"w\")\n",
    "f.close()"
   ]
  },
  {
   "cell_type": "code",
   "execution_count": 92,
   "metadata": {},
   "outputs": [],
   "source": [
    "for i in range(len(lines)):\n",
    "    if(lines[i]!=\"\\n\"):\n",
    "        for j in word_tokenize(lines[i].lower()):\n",
    "            if j not in stop:\n",
    "                if(j!=\"--\"):\n",
    "                    with open('adventure-pg-clean.txt', 'a') as f:\n",
    "                        f.write(j + \" \")\n",
    "                    f.close() \n",
    "    else:\n",
    "        with open('adventure-pg-clean.txt', 'a') as f:\n",
    "            f.write(\"\\n\")\n",
    "        f.close()"
   ]
  },
  {
   "cell_type": "code",
   "execution_count": null,
   "metadata": {},
   "outputs": [],
   "source": []
  }
 ],
 "metadata": {
  "kernelspec": {
   "display_name": "Python [conda env:anaconda3]",
   "language": "python",
   "name": "conda-env-anaconda3-py"
  },
  "language_info": {
   "codemirror_mode": {
    "name": "ipython",
    "version": 3
   },
   "file_extension": ".py",
   "mimetype": "text/x-python",
   "name": "python",
   "nbconvert_exporter": "python",
   "pygments_lexer": "ipython3",
   "version": "3.6.5"
  }
 },
 "nbformat": 4,
 "nbformat_minor": 2
}
