{
 "cells": [
  {
   "cell_type": "markdown",
   "metadata": {},
   "source": [
    "# Import files"
   ]
  },
  {
   "cell_type": "code",
   "execution_count": 2,
   "metadata": {},
   "outputs": [],
   "source": [
    "import gensim\n",
    "from gensim.models import Word2Vec\n",
    "import numpy as np\n",
    "import pandas as pd\n",
    "from sklearn.manifold import TSNE\n",
    "import matplotlib.pyplot as plt\n",
    "import glob"
   ]
  },
  {
   "cell_type": "markdown",
   "metadata": {},
   "source": [
    "# Read all files and create training corpus"
   ]
  },
  {
   "cell_type": "code",
   "execution_count": 3,
   "metadata": {},
   "outputs": [],
   "source": [
    "files = glob.glob('../pre-processing/combined/*.txt')\n",
    "list_of_tokens=[]\n",
    "for file_name in files:\n",
    "    file = open(file_name,'r')\n",
    "    txt = file.read()\n",
    "    list_of_tokens = list_of_tokens + txt.split('\\n')\n",
    "\n",
    "corpus = [element.split(\" \") for element in list_of_tokens]\n",
    "\n",
    "training_corpus = []\n",
    "for line in corpus:\n",
    "    training_corpus.append([elem for elem in line if elem != ''])"
   ]
  },
  {
   "cell_type": "markdown",
   "metadata": {},
   "source": [
    "# Train the word2vec model on the corpus"
   ]
  },
  {
   "cell_type": "code",
   "execution_count": 4,
   "metadata": {},
   "outputs": [
    {
     "data": {
      "text/plain": [
       "(4218881, 4258030)"
      ]
     },
     "execution_count": 4,
     "metadata": {},
     "output_type": "execute_result"
    }
   ],
   "source": [
    "model = Word2Vec(training_corpus, size=50, window=3, min_count=1, workers=8, sg=1)\n",
    "model.train(training_corpus, total_examples=len(training_corpus), epochs=10)"
   ]
  },
  {
   "cell_type": "code",
   "execution_count": null,
   "metadata": {},
   "outputs": [
    {
     "name": "stderr",
     "output_type": "stream",
     "text": [
      "/Users/aashnakanuga/anaconda2/envs/env/lib/python3.7/site-packages/ipykernel_launcher.py:2: DeprecationWarning: Call to deprecated `syn0` (Attribute will be removed in 4.0.0, use self.wv.vectors instead).\n",
      "  \n"
     ]
    }
   ],
   "source": [
    "from gensim import similarities\n",
    "index = similarities.MatrixSimilarity(gensim.matutils.Dense2Corpus(model.wv.syn0.T))\n",
    "similarity_matrix = []\n",
    "for sims in index:\n",
    "    similarity_matrix.append(sims)\n",
    "similarity_array = np.array(similarity_matrix)"
   ]
  },
  {
   "cell_type": "code",
   "execution_count": null,
   "metadata": {},
   "outputs": [],
   "source": [
    "similarity_array.shape"
   ]
  },
  {
   "cell_type": "markdown",
   "metadata": {},
   "source": [
    "# Find mean similarity of  every sentence in test to source"
   ]
  },
  {
   "cell_type": "code",
   "execution_count": null,
   "metadata": {},
   "outputs": [],
   "source": [
    "source_file = open('../pre-processing/combined/combined-source.txt')\n",
    "test_file = open('../pre-processing/combined/combined-target.txt')\n",
    "\n",
    "source_txt = source_file.read()\n",
    "test_txt = test_file.read()"
   ]
  },
  {
   "cell_type": "code",
   "execution_count": null,
   "metadata": {},
   "outputs": [],
   "source": [
    "test = []\n",
    "max_similarity=[]\n",
    "for test_elem in test_txt.split(\"\\n\"):\n",
    "    for w in test_elem.split(\" \"):\n",
    "        if w!='':\n",
    "            test.append(w)\n",
    "    similarities=[]\n",
    "    source=[]\n",
    "    for source_elem in source_txt.split(\"\\n\"):\n",
    "        for w in source_elem.split(\" \"):\n",
    "            if w!='':\n",
    "                source.append(w)\n",
    "        similarities.append(model.wv.n_similarity(source,test))\n",
    "    max_similarity.append(max(similarities))\n",
    "    test = []"
   ]
  },
  {
   "cell_type": "code",
   "execution_count": null,
   "metadata": {},
   "outputs": [],
   "source": [
    "max_similarity"
   ]
  },
  {
   "cell_type": "code",
   "execution_count": null,
   "metadata": {},
   "outputs": [],
   "source": [
    "mean_similarity = sum(max_similarity)/float(len(max_similarity))"
   ]
  },
  {
   "cell_type": "code",
   "execution_count": null,
   "metadata": {},
   "outputs": [],
   "source": []
  },
  {
   "cell_type": "markdown",
   "metadata": {},
   "source": [
    "\n",
    "\n",
    "\n",
    "\n",
    "# Tests on model"
   ]
  },
  {
   "cell_type": "markdown",
   "metadata": {},
   "source": [
    "## Find a list of similar words for a given word"
   ]
  },
  {
   "cell_type": "code",
   "execution_count": 62,
   "metadata": {
    "scrolled": true
   },
   "outputs": [
    {
     "data": {
      "text/plain": [
       "[('affair', 0.7747365236282349),\n",
       " ('courtship', 0.7191614508628845),\n",
       " ('jealous', 0.7093785405158997),\n",
       " ('vow', 0.6994887590408325),\n",
       " ('illicit', 0.6967019438743591),\n",
       " ('rejection', 0.6899811029434204),\n",
       " ('u-', 0.6879823207855225),\n",
       " ('parent', 0.684080958366394),\n",
       " ('affection', 0.6839406490325928),\n",
       " ('imago', 0.6832321882247925)]"
      ]
     },
     "execution_count": 62,
     "metadata": {},
     "output_type": "execute_result"
    }
   ],
   "source": [
    "w1 = \"love\"\n",
    "model.wv.most_similar(positive=w1)"
   ]
  },
  {
   "cell_type": "markdown",
   "metadata": {},
   "source": [
    "## Man is to woman, as king is to?"
   ]
  },
  {
   "cell_type": "code",
   "execution_count": 63,
   "metadata": {},
   "outputs": [
    {
     "data": {
      "text/plain": [
       "[('philip', 0.6605688333511353)]"
      ]
     },
     "execution_count": 63,
     "metadata": {},
     "output_type": "execute_result"
    }
   ],
   "source": [
    "model.wv.most_similar(positive=['man', 'king'], negative=['woman'], topn=1)"
   ]
  },
  {
   "cell_type": "markdown",
   "metadata": {},
   "source": [
    "## Find a word in a list that does not belong to the same category as the other words"
   ]
  },
  {
   "cell_type": "code",
   "execution_count": 74,
   "metadata": {},
   "outputs": [
    {
     "data": {
      "text/plain": [
       "'hate'"
      ]
     },
     "execution_count": 74,
     "metadata": {},
     "output_type": "execute_result"
    }
   ],
   "source": [
    "model.wv.doesnt_match(\"treachery obstacle kinsman hate\".split())"
   ]
  },
  {
   "cell_type": "markdown",
   "metadata": {},
   "source": [
    "## Check the accuracy using a common file used to test the model"
   ]
  },
  {
   "cell_type": "code",
   "execution_count": 69,
   "metadata": {},
   "outputs": [],
   "source": [
    "accuracy=model.wv.accuracy(\"questions-words.txt\")"
   ]
  },
  {
   "cell_type": "code",
   "execution_count": 70,
   "metadata": {},
   "outputs": [],
   "source": [
    "accuracy_ratio = []\n",
    "category_names = []\n",
    "for category in accuracy:\n",
    "    if len(category['correct'])+len(category['incorrect'])>0:\n",
    "        correctness = len(category['correct'])/(len(category['correct'])+len(category['incorrect']))\n",
    "    else:\n",
    "        correctness = 0.0\n",
    "    accuracy_ratio.append(correctness)\n",
    "    category_names.append(category['section'])"
   ]
  },
  {
   "cell_type": "code",
   "execution_count": 71,
   "metadata": {},
   "outputs": [
    {
     "name": "stdout",
     "output_type": "stream",
     "text": [
      "capital-common-countries 0.0\n",
      "capital-world 0.0\n",
      "currency 0.0\n",
      "city-in-state 0.004761904761904762\n",
      "family 0.07142857142857142\n",
      "gram1-adjective-to-adverb 0.0\n",
      "gram2-opposite 0.0\n",
      "gram3-comparative 0.005040322580645161\n",
      "gram4-superlative 0.007246376811594203\n",
      "gram5-present-participle 0.007122507122507123\n",
      "gram6-nationality-adjective 0.0\n",
      "gram7-past-tense 0.030952380952380953\n",
      "gram8-plural 0.0\n",
      "gram9-plural-verbs 0.0\n",
      "total 0.012625324916450055\n"
     ]
    }
   ],
   "source": [
    "for i in range(0,len(category_names)):\n",
    "    print(category_names[i], accuracy_ratio[i])"
   ]
  },
  {
   "cell_type": "markdown",
   "metadata": {},
   "source": [
    "## Find cosine distance between two words"
   ]
  },
  {
   "cell_type": "code",
   "execution_count": 72,
   "metadata": {},
   "outputs": [],
   "source": [
    "dist = model.wv.distance(\"queen\",\"king\")"
   ]
  },
  {
   "cell_type": "code",
   "execution_count": 73,
   "metadata": {},
   "outputs": [
    {
     "name": "stdout",
     "output_type": "stream",
     "text": [
      "0.24179071994870938\n"
     ]
    }
   ],
   "source": [
    "print(dist)"
   ]
  },
  {
   "cell_type": "markdown",
   "metadata": {},
   "source": [
    "# Visualize"
   ]
  },
  {
   "cell_type": "code",
   "execution_count": 15,
   "metadata": {},
   "outputs": [
    {
     "name": "stderr",
     "output_type": "stream",
     "text": [
      "/Users/aashnakanuga/anaconda2/envs/env/lib/python3.7/site-packages/ipykernel_launcher.py:2: DeprecationWarning: Call to deprecated `__getitem__` (Method will be removed in 4.0.0, use self.wv.__getitem__() instead).\n",
      "  \n"
     ]
    }
   ],
   "source": [
    "vocab = list(model.wv.vocab)\n",
    "X = model[vocab]"
   ]
  },
  {
   "cell_type": "code",
   "execution_count": 44,
   "metadata": {},
   "outputs": [],
   "source": [
    "tsne = TSNE(n_components=2)\n",
    "X_tsne = tsne.fit_transform(X[:200,:])"
   ]
  },
  {
   "cell_type": "code",
   "execution_count": 47,
   "metadata": {},
   "outputs": [],
   "source": [
    "df = pd.DataFrame(X_tsne, index=vocab[:200], columns=['x', 'y'])"
   ]
  },
  {
   "cell_type": "code",
   "execution_count": 49,
   "metadata": {},
   "outputs": [
    {
     "data": {
      "image/png": "[encoded data removed]",
      "text/plain": [
       "<Figure size 432x288 with 1 Axes>"
      ]
     },
     "metadata": {
      "needs_background": "light"
     },
     "output_type": "display_data"
    }
   ],
   "source": [
    "fig = plt.figure()\n",
    "ax = fig.add_subplot(1, 1, 1)\n",
    "\n",
    "ax.scatter(df['x'], df['y'])\n",
    "ax.margins(-0.25,0)\n",
    "for word, pos in df.iterrows():\n",
    "    ax.annotate(word, pos)"
   ]
  },
  {
   "cell_type": "code",
   "execution_count": null,
   "metadata": {},
   "outputs": [],
   "source": []
  }
 ],
 "metadata": {
  "kernelspec": {
   "display_name": "Python 3",
   "language": "python",
   "name": "python3"
  },
  "language_info": {
   "codemirror_mode": {
    "name": "ipython",
    "version": 3
   },
   "file_extension": ".py",
   "mimetype": "text/x-python",
   "name": "python",
   "nbconvert_exporter": "python",
   "pygments_lexer": "ipython3",
   "version": "3.7.1"
  }
 },
 "nbformat": 4,
 "nbformat_minor": 2
}
