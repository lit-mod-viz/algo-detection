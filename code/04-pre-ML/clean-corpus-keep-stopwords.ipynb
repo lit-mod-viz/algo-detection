{
 "cells": [
  {
   "cell_type": "code",
   "execution_count": 1,
   "metadata": {},
   "outputs": [],
   "source": [
    "#this file performs pre-processing and retains all stopwords and does not perform lammetization"
   ]
  },
  {
   "cell_type": "code",
   "execution_count": null,
   "metadata": {},
   "outputs": [],
   "source": [
    "import nltk\n",
    "from nltk import sent_tokenize\n",
    "from nltk.corpus import stopwords\n",
    "from nltk.stem import WordNetLemmatizer\n",
    "lemmatizer = WordNetLemmatizer()\n",
    "stops = set(stopwords.words(\"english\"))\n",
    "import glob"
   ]
  },
  {
   "cell_type": "code",
   "execution_count": 31,
   "metadata": {
    "scrolled": true
   },
   "outputs": [
    {
     "name": "stdout",
     "output_type": "stream",
     "text": [
      "Enter file name:../test-corpus/suspected-no-algo/tender-buttons/tender-buttons.txt\n"
     ]
    }
   ],
   "source": [
    "#get file name\n",
    "file_name = input('Enter file name:')"
   ]
  },
  {
   "cell_type": "code",
   "execution_count": 32,
   "metadata": {},
   "outputs": [],
   "source": [
    "#read file\n",
    "in_file = open(file_name,'r')\n",
    "txt = in_file.read()"
   ]
  },
  {
   "cell_type": "code",
   "execution_count": 33,
   "metadata": {},
   "outputs": [],
   "source": [
    "#tokenize\n",
    "tokens = sent_tokenize(txt)\n",
    "    \n",
    "#keep only characters\n",
    "clean_tokens=[]\n",
    "for element in tokens:\n",
    "    words=element.split(\" \")\n",
    "    clean_words=[]\n",
    "    for word in words:\n",
    "        word=''.join(ch for ch in word if ch.isalpha())\n",
    "        clean_words.append(word)\n",
    "    clean_tokens.append(' '.join(word for word in clean_words))\n"
   ]
  },
  {
   "cell_type": "code",
   "execution_count": null,
   "metadata": {},
   "outputs": [],
   "source": [
    "#get final list of sentences\n",
    "final = []\n",
    "for i in range(0,len(clean_tokens)):\n",
    "    final.append(' '.join(word for word in clean_tokens[i].split() if len(word)>1))"
   ]
  },
  {
   "cell_type": "code",
   "execution_count": 35,
   "metadata": {},
   "outputs": [],
   "source": [
    "#open output file and write code\n",
    "index = file_name.rfind('/')\n",
    "file_updated = \"../pre-cleaned/clean-test/clean-suspected-no-algo/\" + file_name[index:-4] + \"-clean.txt\"\n",
    "f = open(file_updated,\"w\")\n",
    "f.close()\n",
    "\n",
    "for element in final:\n",
    "    if(len(element.split())>1):\n",
    "        with open(file_updated, 'a') as f:\n",
    "            f.write(element + \"\\n\")\n",
    "        f.close()"
   ]
  }
 ],
 "metadata": {
  "kernelspec": {
   "display_name": "Python 3",
   "language": "python",
   "name": "python3"
  },
  "language_info": {
   "codemirror_mode": {
    "name": "ipython",
    "version": 3
   },
   "file_extension": ".py",
   "mimetype": "text/x-python",
   "name": "python",
   "nbconvert_exporter": "python",
   "pygments_lexer": "ipython3",
   "version": "3.6.7"
  }
 },
 "nbformat": 4,
 "nbformat_minor": 2
}
