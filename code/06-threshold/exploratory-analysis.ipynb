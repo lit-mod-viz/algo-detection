{
 "cells": [
  {
   "cell_type": "code",
   "execution_count": 53,
   "metadata": {},
   "outputs": [],
   "source": [
    "import gensim\n",
    "from gensim.models import Word2Vec\n",
    "from gensim import corpora\n",
    "import numpy as np\n",
    "import pandas as pd\n",
    "from sklearn.manifold import TSNE\n",
    "import matplotlib.pyplot as plt\n",
    "import glob"
   ]
  },
  {
   "cell_type": "markdown",
   "metadata": {},
   "source": [
    "# Possible things to try for exploratory data analysis\n",
    "\n",
    "## The files here are sample files, we can replace them with actual ones to see the real results"
   ]
  },
  {
   "cell_type": "code",
   "execution_count": 54,
   "metadata": {},
   "outputs": [],
   "source": [
    "#load the model\n",
    "w2v_model = gensim.models.Word2Vec.load('word2vec_model.model')"
   ]
  },
  {
   "cell_type": "code",
   "execution_count": 55,
   "metadata": {},
   "outputs": [],
   "source": [
    "#open the source file, get it in the required form\n",
    "source_file = open('../pre-cleaned/sample-files-for-eda/sample-source.txt','r')\n",
    "source_lines = source_file.read()\n",
    "source_tokens = []\n",
    "source_tokens = source_tokens + source_lines.split('\\n')\n",
    "\n",
    "s_corpus = [element.split(\" \") for element in source_tokens]\n",
    "\n",
    "source_corpus = []\n",
    "for line in s_corpus:\n",
    "    if line != ['']:\n",
    "        source_corpus.append([elem for elem in line if elem != ''])\n",
    "        \n",
    "#source curpus is our final list"
   ]
  },
  {
   "cell_type": "code",
   "execution_count": 56,
   "metadata": {},
   "outputs": [],
   "source": [
    "#do the same for test corpus suspected algo\n",
    "test_file = open('../pre-cleaned/sample-files-for-eda/sample-suspected.txt','r')\n",
    "test_lines = test_file.read()\n",
    "test_tokens = []\n",
    "test_tokens = test_tokens + test_lines.split('\\n')\n",
    "\n",
    "t_corpus = [element.split(\" \") for element in test_tokens]\n",
    "\n",
    "test_corpus = []\n",
    "for line in t_corpus:\n",
    "    if line != ['']:\n",
    "        test_corpus.append([elem for elem in line if elem != ''])\n",
    "\n"
   ]
  },
  {
   "cell_type": "code",
   "execution_count": 60,
   "metadata": {},
   "outputs": [
    {
     "name": "stderr",
     "output_type": "stream",
     "text": [
      "/Users/aashnakanuga/anaconda2/envs/env/lib/python3.6/site-packages/gensim/matutils.py:737: FutureWarning: Conversion of the second argument of issubdtype from `int` to `np.signedinteger` is deprecated. In future, it will be treated as `np.int64 == np.dtype(int).type`.\n",
      "  if np.issubdtype(vec.dtype, np.int):\n"
     ]
    }
   ],
   "source": [
    "#calculate the similarity between every sentence in the source and every sentence in the test\n",
    "max_similarity=[]\n",
    "for test_sentence in test_corpus: #iterate over every sentence in the test corpus\n",
    "    similarities=[]\n",
    "    for source_sentence in source_corpus: #for every sentence in the test, iterate over every sentence in the source\n",
    "        similarities.append(w2v_model.wv.n_similarity(source_sentence,test_sentence))\n",
    "    #out of all similarities for each sentence in the test to every sentence in the source, get the maximum one\n",
    "    max_similarity.append(max(similarities))"
   ]
  },
  {
   "cell_type": "code",
   "execution_count": 63,
   "metadata": {},
   "outputs": [
    {
     "data": {
      "text/plain": [
       "[0.9408203,\n",
       " 0.987776,\n",
       " 0.9453467,\n",
       " 0.98556787,\n",
       " 0.93947834,\n",
       " 0.9991054,\n",
       " 1.0,\n",
       " 0.9927274,\n",
       " 0.9571395,\n",
       " 0.9355696,\n",
       " 0.96963966,\n",
       " 0.95185095,\n",
       " 0.97399616,\n",
       " 0.9621766]"
      ]
     },
     "execution_count": 63,
     "metadata": {},
     "output_type": "execute_result"
    }
   ],
   "source": [
    "max_similarity"
   ]
  },
  {
   "cell_type": "code",
   "execution_count": 61,
   "metadata": {},
   "outputs": [],
   "source": [
    "#get the final mean similarity for the whole test corpus\n",
    "mean_similarity = sum(max_similarity)/float(len(max_similarity))"
   ]
  },
  {
   "cell_type": "code",
   "execution_count": 62,
   "metadata": {},
   "outputs": [
    {
     "data": {
      "text/plain": [
       "0.9672281742095947"
      ]
     },
     "execution_count": 62,
     "metadata": {},
     "output_type": "execute_result"
    }
   ],
   "source": [
    "mean_similarity"
   ]
  },
  {
   "cell_type": "code",
   "execution_count": null,
   "metadata": {},
   "outputs": [],
   "source": [
    "#below we plot the scatterplot of max similarity(y axis) for every sentence in the test corpus (x axis)"
   ]
  },
  {
   "cell_type": "code",
   "execution_count": 49,
   "metadata": {},
   "outputs": [],
   "source": [
    "x=[]\n",
    "for i in range(0,len(max_similarity)):\n",
    "    x.append(i+1)"
   ]
  },
  {
   "cell_type": "code",
   "execution_count": 50,
   "metadata": {},
   "outputs": [],
   "source": [
    "y = max_similarity"
   ]
  },
  {
   "cell_type": "code",
   "execution_count": 52,
   "metadata": {},
   "outputs": [
    {
     "data": {
      "image/png": "[encoded data removed]",
      "text/plain": [
       "<Figure size 432x288 with 1 Axes>"
      ]
     },
     "metadata": {
      "needs_background": "light"
     },
     "output_type": "display_data"
    }
   ],
   "source": [
    "plt.scatter(x, y)\n",
    "plt.xlabel('sentence number')\n",
    "plt.ylabel('max similarity')\n",
    "plt.show()"
   ]
  },
  {
   "cell_type": "code",
   "execution_count": 66,
   "metadata": {},
   "outputs": [],
   "source": [
    "#here we calculate the percentage of sentences in the source corpus for which the similarity for that sentence in\n",
    "#the test is >0.7 (which can be adjusted)\n",
    "count_similar_sentences=[]\n",
    "for test_sentence in test_corpus:\n",
    "    similarities=[]\n",
    "    for source_sentence in source_corpus:\n",
    "        similarities.append(w2v_model.wv.n_similarity(source_sentence,test_sentence))\n",
    "    count_similar_sentences.append(len([elem for elem in similarities if elem > 0.7])/len(similarities))"
   ]
  },
  {
   "cell_type": "code",
   "execution_count": 67,
   "metadata": {},
   "outputs": [
    {
     "data": {
      "text/plain": [
       "[1.0,\n",
       " 1.0,\n",
       " 0.8571428571428571,\n",
       " 1.0,\n",
       " 0.9285714285714286,\n",
       " 1.0,\n",
       " 1.0,\n",
       " 1.0,\n",
       " 1.0,\n",
       " 1.0,\n",
       " 1.0,\n",
       " 1.0,\n",
       " 0.9285714285714286,\n",
       " 1.0]"
      ]
     },
     "execution_count": 67,
     "metadata": {},
     "output_type": "execute_result"
    }
   ],
   "source": [
    "count_similar_sentences"
   ]
  },
  {
   "cell_type": "code",
   "execution_count": 68,
   "metadata": {},
   "outputs": [],
   "source": [
    "#get the average of all percentages\n",
    "mean_count_similar_sentences = sum(count_similar_sentences)/len(count_similar_sentences)"
   ]
  },
  {
   "cell_type": "code",
   "execution_count": 69,
   "metadata": {},
   "outputs": [
    {
     "data": {
      "text/plain": [
       "0.9795918367346939"
      ]
     },
     "execution_count": 69,
     "metadata": {},
     "output_type": "execute_result"
    }
   ],
   "source": [
    "mean_count_similar_sentences"
   ]
  },
  {
   "cell_type": "code",
   "execution_count": 71,
   "metadata": {},
   "outputs": [],
   "source": [
    "#again plot the scatterplot for sentence of the test corpus vs % of similar sentences for it in the source\n",
    "x=[]\n",
    "for i in range(0,len(count_similar_sentences)):\n",
    "    x.append(i+1)"
   ]
  },
  {
   "cell_type": "code",
   "execution_count": 72,
   "metadata": {},
   "outputs": [],
   "source": [
    "y = count_similar_sentences"
   ]
  },
  {
   "cell_type": "code",
   "execution_count": 74,
   "metadata": {},
   "outputs": [
    {
     "data": {
      "image/png": "[encoded data removed]",
      "text/plain": [
       "<Figure size 432x288 with 1 Axes>"
      ]
     },
     "metadata": {
      "needs_background": "light"
     },
     "output_type": "display_data"
    }
   ],
   "source": [
    "plt.scatter(x, y)\n",
    "plt.xlabel('sentence number - test corpus')\n",
    "plt.ylabel('% of similar sentences of source')\n",
    "plt.show()"
   ]
  },
  {
   "cell_type": "code",
   "execution_count": null,
   "metadata": {},
   "outputs": [],
   "source": []
  },
  {
   "cell_type": "code",
   "execution_count": null,
   "metadata": {},
   "outputs": [],
   "source": []
  },
  {
   "cell_type": "markdown",
   "metadata": {},
   "source": [
    "### Now we repeat the same things done above for suspected-no-algo against source corpus"
   ]
  },
  {
   "cell_type": "code",
   "execution_count": 75,
   "metadata": {},
   "outputs": [],
   "source": [
    "test_file_no_algo = open('../pre-cleaned/sample-files-for-eda/sample-no-suspected.txt','r')\n",
    "test_lines_no_algo = test_file_no_algo.read()\n",
    "test_tokens_no_algo = []\n",
    "test_tokens_no_algo = test_tokens_no_algo + test_lines_no_algo.split('\\n')\n",
    "\n",
    "t_corpus_no_algo = [element.split(\" \") for element in test_tokens_no_algo]\n",
    "\n",
    "test_corpus_no_algo = []\n",
    "for line in t_corpus_no_algo:\n",
    "    if line != ['']:\n",
    "        test_corpus_no_algo.append([elem for elem in line if elem != ''])\n",
    "\n",
    "# test_dictionary = corpora.Dictionary(test_corpus)\n",
    "# test_bow = [test_dictionary.doc2bow(text.lower().split()) for text in test_tokens]"
   ]
  },
  {
   "cell_type": "code",
   "execution_count": 76,
   "metadata": {},
   "outputs": [
    {
     "name": "stderr",
     "output_type": "stream",
     "text": [
      "/Users/aashnakanuga/anaconda2/envs/env/lib/python3.6/site-packages/gensim/matutils.py:737: FutureWarning: Conversion of the second argument of issubdtype from `int` to `np.signedinteger` is deprecated. In future, it will be treated as `np.int64 == np.dtype(int).type`.\n",
      "  if np.issubdtype(vec.dtype, np.int):\n"
     ]
    }
   ],
   "source": [
    "max_similarity_no_algo=[]\n",
    "for test_sentence in test_corpus_no_algo:\n",
    "    similarities_no_algo=[]\n",
    "    for source_sentence in source_corpus:\n",
    "        similarities_no_algo.append(w2v_model.wv.n_similarity(source_sentence,test_sentence))\n",
    "    max_similarity_no_algo.append(max(similarities_no_algo))"
   ]
  },
  {
   "cell_type": "code",
   "execution_count": 77,
   "metadata": {},
   "outputs": [
    {
     "data": {
      "text/plain": [
       "[0.8449875,\n",
       " 0.7946235,\n",
       " 0.620169,\n",
       " 0.6968636,\n",
       " 0.70143855,\n",
       " 0.72665346,\n",
       " 0.61890507,\n",
       " 0.6989717,\n",
       " 0.5535282]"
      ]
     },
     "execution_count": 77,
     "metadata": {},
     "output_type": "execute_result"
    }
   ],
   "source": [
    "max_similarity_no_algo"
   ]
  },
  {
   "cell_type": "code",
   "execution_count": 78,
   "metadata": {},
   "outputs": [],
   "source": [
    "mean_similarity_no_algo = sum(max_similarity_no_algo)/float(len(max_similarity_no_algo))"
   ]
  },
  {
   "cell_type": "code",
   "execution_count": 79,
   "metadata": {},
   "outputs": [
    {
     "data": {
      "text/plain": [
       "0.6951267255677117"
      ]
     },
     "execution_count": 79,
     "metadata": {},
     "output_type": "execute_result"
    }
   ],
   "source": [
    "mean_similarity_no_algo"
   ]
  },
  {
   "cell_type": "code",
   "execution_count": 82,
   "metadata": {},
   "outputs": [],
   "source": [
    "x=[]\n",
    "for i in range(0,len(max_similarity_no_algo)):\n",
    "    x.append(i+1)"
   ]
  },
  {
   "cell_type": "code",
   "execution_count": 83,
   "metadata": {},
   "outputs": [],
   "source": [
    "y = max_similarity_no_algo"
   ]
  },
  {
   "cell_type": "code",
   "execution_count": 84,
   "metadata": {},
   "outputs": [
    {
     "data": {
      "image/png": "[encoded data removed]",
      "text/plain": [
       "<Figure size 432x288 with 1 Axes>"
      ]
     },
     "metadata": {
      "needs_background": "light"
     },
     "output_type": "display_data"
    }
   ],
   "source": [
    "plt.scatter(x, y)\n",
    "plt.xlabel('sentence number')\n",
    "plt.ylabel('max similarity')\n",
    "plt.show()"
   ]
  },
  {
   "cell_type": "code",
   "execution_count": null,
   "metadata": {},
   "outputs": [],
   "source": []
  },
  {
   "cell_type": "code",
   "execution_count": 85,
   "metadata": {},
   "outputs": [],
   "source": [
    "count_similar_sentences_no_algo=[]\n",
    "for test_sentence in test_corpus_no_algo:\n",
    "    similarities=[]\n",
    "    for source_sentence in source_corpus:\n",
    "        similarities.append(w2v_model.wv.n_similarity(source_sentence,test_sentence))\n",
    "    count_similar_sentences_no_algo.append(len([elem for elem in similarities if elem > 0.7])/len(similarities))"
   ]
  },
  {
   "cell_type": "code",
   "execution_count": 86,
   "metadata": {},
   "outputs": [
    {
     "data": {
      "text/plain": [
       "[0.7142857142857143,\n",
       " 0.2857142857142857,\n",
       " 0.0,\n",
       " 0.0,\n",
       " 0.07142857142857142,\n",
       " 0.21428571428571427,\n",
       " 0.0,\n",
       " 0.0,\n",
       " 0.0]"
      ]
     },
     "execution_count": 86,
     "metadata": {},
     "output_type": "execute_result"
    }
   ],
   "source": [
    "count_similar_sentences_no_algo"
   ]
  },
  {
   "cell_type": "code",
   "execution_count": 87,
   "metadata": {},
   "outputs": [],
   "source": [
    "mean_count_similar_sentences_no_algo = sum(count_similar_sentences_no_algo)/len(count_similar_sentences_no_algo)"
   ]
  },
  {
   "cell_type": "code",
   "execution_count": 88,
   "metadata": {},
   "outputs": [
    {
     "data": {
      "text/plain": [
       "0.14285714285714285"
      ]
     },
     "execution_count": 88,
     "metadata": {},
     "output_type": "execute_result"
    }
   ],
   "source": [
    "mean_count_similar_sentences_no_algo"
   ]
  },
  {
   "cell_type": "code",
   "execution_count": 89,
   "metadata": {},
   "outputs": [],
   "source": [
    "x=[]\n",
    "for i in range(0,len(count_similar_sentences_no_algo)):\n",
    "    x.append(i+1)"
   ]
  },
  {
   "cell_type": "code",
   "execution_count": 90,
   "metadata": {},
   "outputs": [],
   "source": [
    "y = count_similar_sentences_no_algo"
   ]
  },
  {
   "cell_type": "code",
   "execution_count": 91,
   "metadata": {},
   "outputs": [
    {
     "data": {
      "image/png": "[encoded data removed]",
      "text/plain": [
       "<Figure size 432x288 with 1 Axes>"
      ]
     },
     "metadata": {
      "needs_background": "light"
     },
     "output_type": "display_data"
    }
   ],
   "source": [
    "plt.scatter(x, y)\n",
    "plt.xlabel('sentence number - test corpus no algo')\n",
    "plt.ylabel('% of similar sentences of source')\n",
    "plt.show()"
   ]
  },
  {
   "cell_type": "code",
   "execution_count": null,
   "metadata": {},
   "outputs": [],
   "source": []
  }
 ],
 "metadata": {
  "kernelspec": {
   "display_name": "Python 3",
   "language": "python",
   "name": "python3"
  },
  "language_info": {
   "codemirror_mode": {
    "name": "ipython",
    "version": 3
   },
   "file_extension": ".py",
   "mimetype": "text/x-python",
   "name": "python",
   "nbconvert_exporter": "python",
   "pygments_lexer": "ipython3",
   "version": "3.7.3"
  }
 },
 "nbformat": 4,
 "nbformat_minor": 2
}
