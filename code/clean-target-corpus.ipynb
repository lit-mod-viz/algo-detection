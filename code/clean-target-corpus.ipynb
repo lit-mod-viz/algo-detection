{
 "cells": [
  {
   "cell_type": "code",
   "execution_count": 1,
   "metadata": {},
   "outputs": [],
   "source": [
    "import nltk\n",
    "from nltk import sent_tokenize\n",
    "from nltk.corpus import stopwords\n",
    "from nltk.stem import WordNetLemmatizer\n",
    "lemmatizer = WordNetLemmatizer()\n",
    "stops = set(stopwords.words(\"english\"))\n",
    "import glob"
   ]
  },
  {
   "cell_type": "code",
   "execution_count": 2,
   "metadata": {},
   "outputs": [],
   "source": [
    "def preprocess_target(txt):\n",
    "    #tokenization\n",
    "    tokens = sent_tokenize(txt)\n",
    "    \n",
    "    #keep only characters\n",
    "    clean_tokens=[]\n",
    "    for element in tokens:\n",
    "        words=element.split(\" \")\n",
    "        clean_words=[]\n",
    "        for word in words:\n",
    "            word=''.join(ch for ch in word if ch.isalpha())\n",
    "            clean_words.append(word)\n",
    "        clean_tokens.append(' '.join(word for word in clean_words))\n",
    "    \n",
    "    #convert to lowercase\n",
    "    lowercase=[]\n",
    "    for token in clean_tokens:\n",
    "        if token:\n",
    "            token=''.join(word.lower() for word in token)\n",
    "        lowercase.append(token)\n",
    "    \n",
    "    #remove stopwords and lemmatize\n",
    "    final_data=[]\n",
    "    for token in lowercase:\n",
    "        words=token.split(\" \")\n",
    "        words=[lemmatizer.lemmatize(w) for w in words if w not in stops and w and len(w)>2]\n",
    "        token=' '.join(w for w in words)\n",
    "        if token:\n",
    "            final_data.append(token)\n",
    "    return final_data"
   ]
  },
  {
   "cell_type": "code",
   "execution_count": 6,
   "metadata": {},
   "outputs": [],
   "source": [
    "files = glob.glob('../test-corpus/suspected-no-algo/tender-buttons/tender-buttons.txt')\n",
    "path_len = len('../test-corpus/suspected-no-algo/tender-buttons/')\n",
    "for file_name in files:\n",
    "    in_file = open(file_name,'r')\n",
    "    txt = in_file.read()\n",
    "    final_data = preprocess_target(txt)\n",
    "    out_file_name = '../pre-processing/clean-test/clean-suspected-no-algo/clean-'+file_name[path_len:]\n",
    "    with open(out_file_name,'w') as out_file:  \n",
    "        for listitem in final_data:\n",
    "            out_file.write('%s\\n' % listitem)\n"
   ]
  },
  {
   "cell_type": "code",
   "execution_count": null,
   "metadata": {},
   "outputs": [],
   "source": []
  }
 ],
 "metadata": {
  "kernelspec": {
   "display_name": "Python [default]",
   "language": "python",
   "name": "python3"
  },
  "language_info": {
   "codemirror_mode": {
    "name": "ipython",
    "version": 3
   },
   "file_extension": ".py",
   "mimetype": "text/x-python",
   "name": "python",
   "nbconvert_exporter": "python",
   "pygments_lexer": "ipython3",
   "version": "3.6.5"
  }
 },
 "nbformat": 4,
 "nbformat_minor": 2
}
