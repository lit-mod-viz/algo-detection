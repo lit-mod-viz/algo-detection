{
 "cells": [
  {
   "cell_type": "code",
   "execution_count": 22,
   "metadata": {},
   "outputs": [],
   "source": [
    "import glob"
   ]
  },
  {
   "cell_type": "code",
   "execution_count": 23,
   "metadata": {},
   "outputs": [],
   "source": [
    "def combine(source,dest):\n",
    "    files = glob.glob(source+'/*.txt')\n",
    "    combined_txt = []\n",
    "    for file in files:\n",
    "        print(file)\n",
    "        in_file = open(file,'r')\n",
    "        txt = in_file.read()\n",
    "        combined_txt = combined_txt + txt\n",
    "    print(combined_txt)"
   ]
  },
  {
   "cell_type": "code",
   "execution_count": 24,
   "metadata": {},
   "outputs": [
    {
     "name": "stdout",
     "output_type": "stream",
     "text": [
      "../pre-processing/clean-target/*.txt\n",
      "[]\n",
      "[]\n"
     ]
    }
   ],
   "source": [
    "src = '../pre-processing/clean-target'\n",
    "dst = '../pre-processing/combined-target'\n",
    "combine(src,dst)"
   ]
  },
  {
   "cell_type": "code",
   "execution_count": null,
   "metadata": {},
   "outputs": [],
   "source": []
  }
 ],
 "metadata": {
  "kernelspec": {
   "display_name": "Python 3",
   "language": "python",
   "name": "python3"
  },
  "language_info": {
   "codemirror_mode": {
    "name": "ipython",
    "version": 3
   },
   "file_extension": ".py",
   "mimetype": "text/x-python",
   "name": "python",
   "nbconvert_exporter": "python",
   "pygments_lexer": "ipython3",
   "version": "3.7.1"
  }
 },
 "nbformat": 4,
 "nbformat_minor": 2
}
